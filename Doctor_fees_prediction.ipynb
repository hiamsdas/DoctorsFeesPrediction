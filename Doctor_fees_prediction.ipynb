{
  "nbformat": 4,
  "nbformat_minor": 0,
  "metadata": {
    "colab": {
      "name": " Doctor fees prediction",
      "provenance": [],
      "collapsed_sections": []
    },
    "kernelspec": {
      "name": "python3",
      "display_name": "Python 3"
    }
  },
  "cells": [
    {
      "cell_type": "markdown",
      "metadata": {
        "id": "Elqea8iunXx4",
        "colab_type": "text"
      },
      "source": [
        "# Import Basic Libraries"
      ]
    },
    {
      "cell_type": "code",
      "metadata": {
        "id": "SA6xCW8DAfhl",
        "colab_type": "code",
        "colab": {}
      },
      "source": [
        "import numpy as np\n",
        "import pandas as pd\n",
        "import matplotlib.pyplot as plt\n",
        "import seaborn as sns\n",
        "%matplotlib inline\n",
        "import socket"
      ],
      "execution_count": 0,
      "outputs": []
    },
    {
      "cell_type": "markdown",
      "metadata": {
        "id": "EFoJwC2iAwJu",
        "colab_type": "text"
      },
      "source": [
        "# Uploading the DataSet"
      ]
    },
    {
      "cell_type": "code",
      "metadata": {
        "id": "sVG7NL7TAvCw",
        "colab_type": "code",
        "colab": {}
      },
      "source": [
        "df = pd.read_excel('Doctor_Fees.xlsx')"
      ],
      "execution_count": 0,
      "outputs": []
    },
    {
      "cell_type": "code",
      "metadata": {
        "id": "XJMm6JS7A9IW",
        "colab_type": "code",
        "outputId": "90aaf19f-d39d-477f-83be-13d31f6c9686",
        "colab": {
          "base_uri": "https://localhost:8080/",
          "height": 34
        }
      },
      "source": [
        "df.shape        #found 7 variables and 5961 rows in this dataset"
      ],
      "execution_count": 4,
      "outputs": [
        {
          "output_type": "execute_result",
          "data": {
            "text/plain": [
              "(5961, 7)"
            ]
          },
          "metadata": {
            "tags": []
          },
          "execution_count": 4
        }
      ]
    },
    {
      "cell_type": "code",
      "metadata": {
        "id": "Mn8H-h0mBCU5",
        "colab_type": "code",
        "outputId": "145799d5-13fa-4e88-b265-55bb7b9e89c3",
        "colab": {
          "base_uri": "https://localhost:8080/",
          "height": 202
        }
      },
      "source": [
        "df.head()"
      ],
      "execution_count": 5,
      "outputs": [
        {
          "output_type": "execute_result",
          "data": {
            "text/html": [
              "<div>\n",
              "<style scoped>\n",
              "    .dataframe tbody tr th:only-of-type {\n",
              "        vertical-align: middle;\n",
              "    }\n",
              "\n",
              "    .dataframe tbody tr th {\n",
              "        vertical-align: top;\n",
              "    }\n",
              "\n",
              "    .dataframe thead th {\n",
              "        text-align: right;\n",
              "    }\n",
              "</style>\n",
              "<table border=\"1\" class=\"dataframe\">\n",
              "  <thead>\n",
              "    <tr style=\"text-align: right;\">\n",
              "      <th></th>\n",
              "      <th>Qualification</th>\n",
              "      <th>Experience</th>\n",
              "      <th>Rating</th>\n",
              "      <th>Place</th>\n",
              "      <th>Profile</th>\n",
              "      <th>Miscellaneous_Info</th>\n",
              "      <th>Fees</th>\n",
              "    </tr>\n",
              "  </thead>\n",
              "  <tbody>\n",
              "    <tr>\n",
              "      <th>0</th>\n",
              "      <td>BHMS, MD - Homeopathy</td>\n",
              "      <td>24 years experience</td>\n",
              "      <td>100%</td>\n",
              "      <td>Kakkanad, Ernakulam</td>\n",
              "      <td>Homeopath</td>\n",
              "      <td>100% 16 Feedback Kakkanad, Ernakulam</td>\n",
              "      <td>100</td>\n",
              "    </tr>\n",
              "    <tr>\n",
              "      <th>1</th>\n",
              "      <td>BAMS, MD - Ayurveda Medicine</td>\n",
              "      <td>12 years experience</td>\n",
              "      <td>98%</td>\n",
              "      <td>Whitefield, Bangalore</td>\n",
              "      <td>Ayurveda</td>\n",
              "      <td>98% 76 Feedback Whitefield, Bangalore</td>\n",
              "      <td>350</td>\n",
              "    </tr>\n",
              "    <tr>\n",
              "      <th>2</th>\n",
              "      <td>MBBS, MS - Otorhinolaryngology</td>\n",
              "      <td>9 years experience</td>\n",
              "      <td>NaN</td>\n",
              "      <td>Mathikere - BEL, Bangalore</td>\n",
              "      <td>ENT Specialist</td>\n",
              "      <td>NaN</td>\n",
              "      <td>300</td>\n",
              "    </tr>\n",
              "    <tr>\n",
              "      <th>3</th>\n",
              "      <td>BSc - Zoology, BAMS</td>\n",
              "      <td>12 years experience</td>\n",
              "      <td>NaN</td>\n",
              "      <td>Bannerghatta Road, Bangalore</td>\n",
              "      <td>Ayurveda</td>\n",
              "      <td>Bannerghatta Road, Bangalore ₹250 Available on...</td>\n",
              "      <td>250</td>\n",
              "    </tr>\n",
              "    <tr>\n",
              "      <th>4</th>\n",
              "      <td>BAMS</td>\n",
              "      <td>20 years experience</td>\n",
              "      <td>100%</td>\n",
              "      <td>Keelkattalai, Chennai</td>\n",
              "      <td>Ayurveda</td>\n",
              "      <td>100% 4 Feedback Keelkattalai, Chennai</td>\n",
              "      <td>250</td>\n",
              "    </tr>\n",
              "  </tbody>\n",
              "</table>\n",
              "</div>"
            ],
            "text/plain": [
              "                    Qualification  ... Fees\n",
              "0           BHMS, MD - Homeopathy  ...  100\n",
              "1    BAMS, MD - Ayurveda Medicine  ...  350\n",
              "2  MBBS, MS - Otorhinolaryngology  ...  300\n",
              "3             BSc - Zoology, BAMS  ...  250\n",
              "4                            BAMS  ...  250\n",
              "\n",
              "[5 rows x 7 columns]"
            ]
          },
          "metadata": {
            "tags": []
          },
          "execution_count": 5
        }
      ]
    },
    {
      "cell_type": "code",
      "metadata": {
        "id": "P3M28EtSBSB2",
        "colab_type": "code",
        "outputId": "f6318a17-1290-49bc-f292-a82c9abb21f6",
        "colab": {
          "base_uri": "https://localhost:8080/",
          "height": 225
        }
      },
      "source": [
        "df.info()       #all variables are object type except 'fees' in this particular dataset. And found null values in this dataset."
      ],
      "execution_count": 6,
      "outputs": [
        {
          "output_type": "stream",
          "text": [
            "<class 'pandas.core.frame.DataFrame'>\n",
            "RangeIndex: 5961 entries, 0 to 5960\n",
            "Data columns (total 7 columns):\n",
            "Qualification         5961 non-null object\n",
            "Experience            5961 non-null object\n",
            "Rating                2659 non-null object\n",
            "Place                 5936 non-null object\n",
            "Profile               5961 non-null object\n",
            "Miscellaneous_Info    3341 non-null object\n",
            "Fees                  5961 non-null int64\n",
            "dtypes: int64(1), object(6)\n",
            "memory usage: 326.1+ KB\n"
          ],
          "name": "stdout"
        }
      ]
    },
    {
      "cell_type": "code",
      "metadata": {
        "id": "4V-HxNqrBdZf",
        "colab_type": "code",
        "outputId": "d86728c6-b12b-4417-e458-07797cdd4c40",
        "colab": {
          "base_uri": "https://localhost:8080/",
          "height": 156
        }
      },
      "source": [
        "df.isnull().sum()"
      ],
      "execution_count": 7,
      "outputs": [
        {
          "output_type": "execute_result",
          "data": {
            "text/plain": [
              "Qualification            0\n",
              "Experience               0\n",
              "Rating                3302\n",
              "Place                   25\n",
              "Profile                  0\n",
              "Miscellaneous_Info    2620\n",
              "Fees                     0\n",
              "dtype: int64"
            ]
          },
          "metadata": {
            "tags": []
          },
          "execution_count": 7
        }
      ]
    },
    {
      "cell_type": "code",
      "metadata": {
        "id": "d0306y6UB603",
        "colab_type": "code",
        "colab": {}
      },
      "source": [
        "#Data Preprocessing of 'years_exp'\n",
        "df['years_exp'] = df['Experience'].str.slice(stop=2).astype(int)"
      ],
      "execution_count": 0,
      "outputs": []
    },
    {
      "cell_type": "code",
      "metadata": {
        "id": "32KfhCM0ClUo",
        "colab_type": "code",
        "outputId": "27aa6c9c-7e0a-4505-a226-41587565a886",
        "colab": {
          "base_uri": "https://localhost:8080/",
          "height": 294
        }
      },
      "source": [
        "df.describe()"
      ],
      "execution_count": 9,
      "outputs": [
        {
          "output_type": "execute_result",
          "data": {
            "text/html": [
              "<div>\n",
              "<style scoped>\n",
              "    .dataframe tbody tr th:only-of-type {\n",
              "        vertical-align: middle;\n",
              "    }\n",
              "\n",
              "    .dataframe tbody tr th {\n",
              "        vertical-align: top;\n",
              "    }\n",
              "\n",
              "    .dataframe thead th {\n",
              "        text-align: right;\n",
              "    }\n",
              "</style>\n",
              "<table border=\"1\" class=\"dataframe\">\n",
              "  <thead>\n",
              "    <tr style=\"text-align: right;\">\n",
              "      <th></th>\n",
              "      <th>Fees</th>\n",
              "      <th>years_exp</th>\n",
              "    </tr>\n",
              "  </thead>\n",
              "  <tbody>\n",
              "    <tr>\n",
              "      <th>count</th>\n",
              "      <td>5961.000000</td>\n",
              "      <td>5961.000000</td>\n",
              "    </tr>\n",
              "    <tr>\n",
              "      <th>mean</th>\n",
              "      <td>307.944640</td>\n",
              "      <td>17.303976</td>\n",
              "    </tr>\n",
              "    <tr>\n",
              "      <th>std</th>\n",
              "      <td>190.920373</td>\n",
              "      <td>11.142798</td>\n",
              "    </tr>\n",
              "    <tr>\n",
              "      <th>min</th>\n",
              "      <td>5.000000</td>\n",
              "      <td>0.000000</td>\n",
              "    </tr>\n",
              "    <tr>\n",
              "      <th>25%</th>\n",
              "      <td>150.000000</td>\n",
              "      <td>9.000000</td>\n",
              "    </tr>\n",
              "    <tr>\n",
              "      <th>50%</th>\n",
              "      <td>300.000000</td>\n",
              "      <td>14.000000</td>\n",
              "    </tr>\n",
              "    <tr>\n",
              "      <th>75%</th>\n",
              "      <td>500.000000</td>\n",
              "      <td>23.000000</td>\n",
              "    </tr>\n",
              "    <tr>\n",
              "      <th>max</th>\n",
              "      <td>950.000000</td>\n",
              "      <td>66.000000</td>\n",
              "    </tr>\n",
              "  </tbody>\n",
              "</table>\n",
              "</div>"
            ],
            "text/plain": [
              "              Fees    years_exp\n",
              "count  5961.000000  5961.000000\n",
              "mean    307.944640    17.303976\n",
              "std     190.920373    11.142798\n",
              "min       5.000000     0.000000\n",
              "25%     150.000000     9.000000\n",
              "50%     300.000000    14.000000\n",
              "75%     500.000000    23.000000\n",
              "max     950.000000    66.000000"
            ]
          },
          "metadata": {
            "tags": []
          },
          "execution_count": 9
        }
      ]
    },
    {
      "cell_type": "code",
      "metadata": {
        "id": "xxktxCRtCoOO",
        "colab_type": "code",
        "colab": {}
      },
      "source": [
        "#Place\n",
        "df['City'] = df['Place'].str.split(',').str[1]\n",
        "df['Locality'] = df['Place'].str.split(',').str[0]"
      ],
      "execution_count": 0,
      "outputs": []
    },
    {
      "cell_type": "markdown",
      "metadata": {
        "id": "HhaqL6JmDFsi",
        "colab_type": "text"
      },
      "source": [
        "# Qualification"
      ]
    },
    {
      "cell_type": "code",
      "metadata": {
        "id": "l2DhXrEkDCZC",
        "colab_type": "code",
        "colab": {}
      },
      "source": [
        "df['Qual_1'] = df['Qualification'].str.split(',').str[0]\n",
        "df['Qual_2'] = df['Qualification'].str.split(',').str[1]\n",
        "df['Qual_3'] = df['Qualification'].str.split(',').str[2]"
      ],
      "execution_count": 0,
      "outputs": []
    },
    {
      "cell_type": "markdown",
      "metadata": {
        "id": "9I7p-mdGESVW",
        "colab_type": "text"
      },
      "source": [
        "# Miscellaneous_Info"
      ]
    },
    {
      "cell_type": "code",
      "metadata": {
        "id": "4EI6wIYsEDWo",
        "colab_type": "code",
        "colab": {}
      },
      "source": [
        "df['Misc'] = df['Miscellaneous_Info'].str.split('%').str[0]\n",
        "\n",
        "df['Misc_len'] = df['Misc'].str.len()\n",
        "\n",
        "df.loc[df['Misc_len']>3, 'Misc'] = 0\n",
        "\n",
        "df['Misc'].fillna(0,inplace = True)\n",
        "\n",
        "df['Misc'] = df['Misc'].astype(int)\n",
        "\n",
        "df['Misc_2'] = df['Miscellaneous_Info'].str.split('% ').str[1]\n",
        "\n",
        "df['Misc_3'] = df['Misc_2'].str.split(' ').str[0]\n",
        "\n",
        "df['Misc_3'].fillna(0,inplace = True)\n",
        "\n",
        "df['Misc_3_len'] = df['Misc_3'].str.len()\n",
        "\n",
        "df.loc[df['Misc_3_len']>3, 'Misc_3'] = 0\n",
        "\n",
        "df.loc[df['Misc_3']==',', 'Misc_3'] = 0\n",
        "\n",
        "df['Misc_3'] = df['Misc_3'].astype(int)\n",
        "\n",
        "df['Fees1'] = df['Fees']\n",
        "\n",
        "df = df.drop(['Fees'],axis=1)"
      ],
      "execution_count": 0,
      "outputs": []
    },
    {
      "cell_type": "code",
      "metadata": {
        "id": "09NljpnvGNS9",
        "colab_type": "code",
        "outputId": "5cad8b01-4b73-4129-f6e8-30f415d227ec",
        "colab": {
          "base_uri": "https://localhost:8080/",
          "height": 265
        }
      },
      "source": [
        "df['Misc'].hist();"
      ],
      "execution_count": 15,
      "outputs": [
        {
          "output_type": "display_data",
          "data": {
            "image/png": "[encoded data removed]",
            "text/plain": [
              "<Figure size 432x288 with 1 Axes>"
            ]
          },
          "metadata": {
            "tags": []
          }
        }
      ]
    },
    {
      "cell_type": "code",
      "metadata": {
        "id": "GjdCrvCxFiXy",
        "colab_type": "code",
        "colab": {}
      },
      "source": [
        "df['Misc_4'] = df['Misc']*np.log((1+df['Misc_3']))"
      ],
      "execution_count": 0,
      "outputs": []
    },
    {
      "cell_type": "code",
      "metadata": {
        "id": "q41b5zLlG6lS",
        "colab_type": "code",
        "outputId": "f4aaeb14-3d81-4b95-e414-9e2435059a40",
        "colab": {
          "base_uri": "https://localhost:8080/",
          "height": 282
        }
      },
      "source": [
        "df['Misc_4'].hist()"
      ],
      "execution_count": 17,
      "outputs": [
        {
          "output_type": "execute_result",
          "data": {
            "text/plain": [
              "<matplotlib.axes._subplots.AxesSubplot at 0x7eff64c20860>"
            ]
          },
          "metadata": {
            "tags": []
          },
          "execution_count": 17
        },
        {
          "output_type": "display_data",
          "data": {
            "image/png": "[encoded data removed]",
            "text/plain": [
              "<Figure size 432x288 with 1 Axes>"
            ]
          },
          "metadata": {
            "tags": []
          }
        }
      ]
    },
    {
      "cell_type": "code",
      "metadata": {
        "id": "o9AdbHTNHFjW",
        "colab_type": "code",
        "colab": {}
      },
      "source": [
        "df['Rating'].fillna('0%',inplace = True)"
      ],
      "execution_count": 0,
      "outputs": []
    },
    {
      "cell_type": "code",
      "metadata": {
        "id": "Os14qF8ZHPX5",
        "colab_type": "code",
        "colab": {}
      },
      "source": [
        "df['Rating'] = df['Rating'].str.slice(stop=-1).astype(int)"
      ],
      "execution_count": 0,
      "outputs": []
    },
    {
      "cell_type": "code",
      "metadata": {
        "id": "G46M8mfAHWWV",
        "colab_type": "code",
        "outputId": "ce1f28e9-9caa-4cc8-aef5-8e745317027a",
        "colab": {
          "base_uri": "https://localhost:8080/",
          "height": 69
        }
      },
      "source": [
        "df['City'].unique()"
      ],
      "execution_count": 20,
      "outputs": [
        {
          "output_type": "execute_result",
          "data": {
            "text/plain": [
              "array([' Ernakulam', ' Bangalore', ' Chennai', ' Delhi', ' Hyderabad',\n",
              "       ' Coimbatore', ' Mumbai', ' Thiruvananthapuram', nan, ' Sector 5'],\n",
              "      dtype=object)"
            ]
          },
          "metadata": {
            "tags": []
          },
          "execution_count": 20
        }
      ]
    },
    {
      "cell_type": "code",
      "metadata": {
        "id": "67s3nOZMHa7K",
        "colab_type": "code",
        "outputId": "9a7c30b1-3ddb-485f-966e-dd01489deca6",
        "colab": {
          "base_uri": "https://localhost:8080/",
          "height": 52
        }
      },
      "source": [
        "df['Profile'].unique()"
      ],
      "execution_count": 21,
      "outputs": [
        {
          "output_type": "execute_result",
          "data": {
            "text/plain": [
              "array(['Homeopath', 'Ayurveda', 'ENT Specialist', 'Dentist',\n",
              "       'General Medicine', 'Dermatologists'], dtype=object)"
            ]
          },
          "metadata": {
            "tags": []
          },
          "execution_count": 21
        }
      ]
    },
    {
      "cell_type": "code",
      "metadata": {
        "id": "zY5a7B7kHh7Q",
        "colab_type": "code",
        "outputId": "1a7dd4e6-8102-45b6-9f63-98cb5c30cc21",
        "colab": {
          "base_uri": "https://localhost:8080/",
          "height": 364
        }
      },
      "source": [
        "df.dtypes"
      ],
      "execution_count": 22,
      "outputs": [
        {
          "output_type": "execute_result",
          "data": {
            "text/plain": [
              "Qualification          object\n",
              "Experience             object\n",
              "Rating                  int64\n",
              "Place                  object\n",
              "Profile                object\n",
              "Miscellaneous_Info     object\n",
              "years_exp               int64\n",
              "City                   object\n",
              "Locality               object\n",
              "Qual_1                 object\n",
              "Qual_2                 object\n",
              "Qual_3                 object\n",
              "Misc                    int64\n",
              "Misc_len              float64\n",
              "Misc_2                 object\n",
              "Misc_3                  int64\n",
              "Misc_3_len            float64\n",
              "Fees1                   int64\n",
              "Misc_4                float64\n",
              "dtype: object"
            ]
          },
          "metadata": {
            "tags": []
          },
          "execution_count": 22
        }
      ]
    },
    {
      "cell_type": "code",
      "metadata": {
        "id": "aa5HTir7IFTN",
        "colab_type": "code",
        "colab": {}
      },
      "source": [
        "from sklearn.preprocessing import LabelEncoder"
      ],
      "execution_count": 0,
      "outputs": []
    },
    {
      "cell_type": "code",
      "metadata": {
        "id": "XJEeuSQkIRKu",
        "colab_type": "code",
        "colab": {}
      },
      "source": [
        "df['City'].fillna(\"XXX\",inplace = True)\n",
        "df['Locality'].fillna(\"XXX\",inplace = True)\n",
        "df['Qualification'].fillna(\"XXX\",inplace = True)\n",
        "df['Profile'].fillna(\"XXX\",inplace = True)\n",
        "df['Qual_1'].fillna(\"XXX\",inplace = True)\n",
        "df['Qual_2'].fillna(\"XXX\",inplace = True)\n",
        "df['Qual_3'].fillna(\"XXX\",inplace = True)"
      ],
      "execution_count": 0,
      "outputs": []
    },
    {
      "cell_type": "markdown",
      "metadata": {
        "id": "o9Dif4mPLJUT",
        "colab_type": "text"
      },
      "source": [
        "# EDA"
      ]
    },
    {
      "cell_type": "code",
      "metadata": {
        "id": "3dUQONK3JAy2",
        "colab_type": "code",
        "outputId": "ff07b6c2-c1c1-4465-debb-f49249bb55ca",
        "colab": {
          "base_uri": "https://localhost:8080/",
          "height": 282
        }
      },
      "source": [
        "df['Fees1'].hist()"
      ],
      "execution_count": 25,
      "outputs": [
        {
          "output_type": "execute_result",
          "data": {
            "text/plain": [
              "<matplotlib.axes._subplots.AxesSubplot at 0x7eff61d436d8>"
            ]
          },
          "metadata": {
            "tags": []
          },
          "execution_count": 25
        },
        {
          "output_type": "display_data",
          "data": {
            "image/png": "[encoded data removed]",
            "text/plain": [
              "<Figure size 432x288 with 1 Axes>"
            ]
          },
          "metadata": {
            "tags": []
          }
        }
      ]
    },
    {
      "cell_type": "code",
      "metadata": {
        "id": "Hrn8348JLZ1h",
        "colab_type": "code",
        "outputId": "c167c1a9-2b2d-4547-e53e-25025df294d3",
        "colab": {
          "base_uri": "https://localhost:8080/",
          "height": 296
        }
      },
      "source": [
        "# No relation between 'years_exp' and 'Fees1'\n",
        "\n",
        "sns.regplot(x='years_exp', y='Fees1', data=df)"
      ],
      "execution_count": 26,
      "outputs": [
        {
          "output_type": "execute_result",
          "data": {
            "text/plain": [
              "<matplotlib.axes._subplots.AxesSubplot at 0x7eff61ce4940>"
            ]
          },
          "metadata": {
            "tags": []
          },
          "execution_count": 26
        },
        {
          "output_type": "display_data",
          "data": {
            "image/png": "[encoded data removed]",
            "text/plain": [
              "<Figure size 432x288 with 1 Axes>"
            ]
          },
          "metadata": {
            "tags": []
          }
        }
      ]
    },
    {
      "cell_type": "code",
      "metadata": {
        "id": "k1NSK5ZJLixB",
        "colab_type": "code",
        "outputId": "8a637149-8f6b-46c8-c3da-d810f0c95229",
        "colab": {
          "base_uri": "https://localhost:8080/",
          "height": 386
        }
      },
      "source": [
        "# Having some relation between 'Misc' and 'Fees1'. Percentage of higher feed back higher fees.\n",
        "\n",
        "sns.lmplot(x='Misc', y='Fees1', data=df)"
      ],
      "execution_count": 27,
      "outputs": [
        {
          "output_type": "execute_result",
          "data": {
            "text/plain": [
              "<seaborn.axisgrid.FacetGrid at 0x7eff61d43278>"
            ]
          },
          "metadata": {
            "tags": []
          },
          "execution_count": 27
        },
        {
          "output_type": "display_data",
          "data": {
            "image/png": "[encoded data removed]",
            "text/plain": [
              "<Figure size 360x360 with 1 Axes>"
            ]
          },
          "metadata": {
            "tags": []
          }
        }
      ]
    },
    {
      "cell_type": "code",
      "metadata": {
        "id": "la5a7CaGNfOw",
        "colab_type": "code",
        "outputId": "de6f7e23-b534-4211-8683-9d8acf78877c",
        "colab": {
          "base_uri": "https://localhost:8080/",
          "height": 386
        }
      },
      "source": [
        "sns.lmplot(x='Misc_3', y='Fees1', data=df)    # fees would be increasing with the increase of no of feedback. Here 'Misc_3' indicates no of feedback."
      ],
      "execution_count": 28,
      "outputs": [
        {
          "output_type": "execute_result",
          "data": {
            "text/plain": [
              "<seaborn.axisgrid.FacetGrid at 0x7eff5f392278>"
            ]
          },
          "metadata": {
            "tags": []
          },
          "execution_count": 28
        },
        {
          "output_type": "display_data",
          "data": {
            "image/png": "[encoded data removed]",
            "text/plain": [
              "<Figure size 360x360 with 1 Axes>"
            ]
          },
          "metadata": {
            "tags": []
          }
        }
      ]
    },
    {
      "cell_type": "code",
      "metadata": {
        "id": "KQ53dBa1NfK_",
        "colab_type": "code",
        "outputId": "5638eb63-9bb2-4a93-bb83-b44df7a38e41",
        "colab": {
          "base_uri": "https://localhost:8080/",
          "height": 386
        }
      },
      "source": [
        "sns.lmplot(x='years_exp', y='Rating', data=df)  #Rating would be decreasing with increase of year_exp."
      ],
      "execution_count": 29,
      "outputs": [
        {
          "output_type": "execute_result",
          "data": {
            "text/plain": [
              "<seaborn.axisgrid.FacetGrid at 0x7eff5f36a550>"
            ]
          },
          "metadata": {
            "tags": []
          },
          "execution_count": 29
        },
        {
          "output_type": "display_data",
          "data": {
            "image/png": "[encoded data removed]",
            "text/plain": [
              "<Figure size 360x360 with 1 Axes>"
            ]
          },
          "metadata": {
            "tags": []
          }
        }
      ]
    },
    {
      "cell_type": "code",
      "metadata": {
        "id": "qZW_GFUKLmKH",
        "colab_type": "code",
        "outputId": "fb2d4227-9858-4207-a284-3d85fbe55fb3",
        "colab": {
          "base_uri": "https://localhost:8080/",
          "height": 386
        }
      },
      "source": [
        "# Having relation between 'rating' and 'Fees1'. If rating is high then fees of the doctors would be high.\n",
        "\n",
        "sns.lmplot(x='Rating', y='Fees1', data=df)"
      ],
      "execution_count": 30,
      "outputs": [
        {
          "output_type": "execute_result",
          "data": {
            "text/plain": [
              "<seaborn.axisgrid.FacetGrid at 0x7eff5f2ec7f0>"
            ]
          },
          "metadata": {
            "tags": []
          },
          "execution_count": 30
        },
        {
          "output_type": "display_data",
          "data": {
            "image/png": "[encoded data removed]",
            "text/plain": [
              "<Figure size 360x360 with 1 Axes>"
            ]
          },
          "metadata": {
            "tags": []
          }
        }
      ]
    },
    {
      "cell_type": "code",
      "metadata": {
        "id": "t78wTQ-jM9ej",
        "colab_type": "code",
        "outputId": "e81c6bd6-667f-4bcf-d74a-e1e97b140d69",
        "colab": {
          "base_uri": "https://localhost:8080/",
          "height": 296
        }
      },
      "source": [
        "sns.barplot(data=df, y=\"Profile\", x=\"Rating\")   #avg. rating of dentist is high with compare to other doctor's profile(above 60)."
      ],
      "execution_count": 31,
      "outputs": [
        {
          "output_type": "execute_result",
          "data": {
            "text/plain": [
              "<matplotlib.axes._subplots.AxesSubplot at 0x7eff5f32bf28>"
            ]
          },
          "metadata": {
            "tags": []
          },
          "execution_count": 31
        },
        {
          "output_type": "display_data",
          "data": {
            "image/png": "[encoded data removed]",
            "text/plain": [
              "<Figure size 432x288 with 1 Axes>"
            ]
          },
          "metadata": {
            "tags": []
          }
        }
      ]
    },
    {
      "cell_type": "code",
      "metadata": {
        "id": "R-W8TUhqQpyg",
        "colab_type": "code",
        "outputId": "b7539e7d-b52d-49bf-d99f-34b1e8461b45",
        "colab": {
          "base_uri": "https://localhost:8080/",
          "height": 296
        }
      },
      "source": [
        "sns.barplot(data=df, y=\"Profile\", x=\"Fees1\")    #fees of Dermatologists is high."
      ],
      "execution_count": 32,
      "outputs": [
        {
          "output_type": "execute_result",
          "data": {
            "text/plain": [
              "<matplotlib.axes._subplots.AxesSubplot at 0x7eff65144198>"
            ]
          },
          "metadata": {
            "tags": []
          },
          "execution_count": 32
        },
        {
          "output_type": "display_data",
          "data": {
            "image/png": "[encoded data removed]",
            "text/plain": [
              "<Figure size 432x288 with 1 Axes>"
            ]
          },
          "metadata": {
            "tags": []
          }
        }
      ]
    },
    {
      "cell_type": "code",
      "metadata": {
        "id": "zDOFQoSIQrT0",
        "colab_type": "code",
        "outputId": "747a67f1-350f-419e-c507-a49751fef870",
        "colab": {
          "base_uri": "https://localhost:8080/",
          "height": 296
        }
      },
      "source": [
        "sns.barplot(data=df, y=\"City\", x=\"Rating\")   #rating of doctors in Bangalor is high with compare to other cities."
      ],
      "execution_count": 33,
      "outputs": [
        {
          "output_type": "execute_result",
          "data": {
            "text/plain": [
              "<matplotlib.axes._subplots.AxesSubplot at 0x7eff5f2309b0>"
            ]
          },
          "metadata": {
            "tags": []
          },
          "execution_count": 33
        },
        {
          "output_type": "display_data",
          "data": {
            "image/png": "[encoded data removed]",
            "text/plain": [
              "<Figure size 432x288 with 1 Axes>"
            ]
          },
          "metadata": {
            "tags": []
          }
        }
      ]
    },
    {
      "cell_type": "code",
      "metadata": {
        "id": "IVy1nN1gRCyc",
        "colab_type": "code",
        "outputId": "2e343488-2f16-405e-d03e-af87f4e7b625",
        "colab": {
          "base_uri": "https://localhost:8080/",
          "height": 296
        }
      },
      "source": [
        "sns.barplot(data=df, y=\"City\", x=\"Fees1\")     #But fees of doctors in Delhi is high not only with compare to bangalor with also compare to others cities."
      ],
      "execution_count": 34,
      "outputs": [
        {
          "output_type": "execute_result",
          "data": {
            "text/plain": [
              "<matplotlib.axes._subplots.AxesSubplot at 0x7eff5f1c8748>"
            ]
          },
          "metadata": {
            "tags": []
          },
          "execution_count": 34
        },
        {
          "output_type": "display_data",
          "data": {
            "image/png": "[encoded data removed]",
            "text/plain": [
              "<Figure size 432x288 with 1 Axes>"
            ]
          },
          "metadata": {
            "tags": []
          }
        }
      ]
    },
    {
      "cell_type": "code",
      "metadata": {
        "id": "XhBnsEfbReV7",
        "colab_type": "code",
        "outputId": "9aa72428-8b71-4c18-c2a2-7654a7c14544",
        "colab": {
          "base_uri": "https://localhost:8080/",
          "height": 430
        }
      },
      "source": [
        "df.head()"
      ],
      "execution_count": 35,
      "outputs": [
        {
          "output_type": "execute_result",
          "data": {
            "text/html": [
              "<div>\n",
              "<style scoped>\n",
              "    .dataframe tbody tr th:only-of-type {\n",
              "        vertical-align: middle;\n",
              "    }\n",
              "\n",
              "    .dataframe tbody tr th {\n",
              "        vertical-align: top;\n",
              "    }\n",
              "\n",
              "    .dataframe thead th {\n",
              "        text-align: right;\n",
              "    }\n",
              "</style>\n",
              "<table border=\"1\" class=\"dataframe\">\n",
              "  <thead>\n",
              "    <tr style=\"text-align: right;\">\n",
              "      <th></th>\n",
              "      <th>Qualification</th>\n",
              "      <th>Experience</th>\n",
              "      <th>Rating</th>\n",
              "      <th>Place</th>\n",
              "      <th>Profile</th>\n",
              "      <th>Miscellaneous_Info</th>\n",
              "      <th>years_exp</th>\n",
              "      <th>City</th>\n",
              "      <th>Locality</th>\n",
              "      <th>Qual_1</th>\n",
              "      <th>Qual_2</th>\n",
              "      <th>Qual_3</th>\n",
              "      <th>Misc</th>\n",
              "      <th>Misc_len</th>\n",
              "      <th>Misc_2</th>\n",
              "      <th>Misc_3</th>\n",
              "      <th>Misc_3_len</th>\n",
              "      <th>Fees1</th>\n",
              "      <th>Misc_4</th>\n",
              "    </tr>\n",
              "  </thead>\n",
              "  <tbody>\n",
              "    <tr>\n",
              "      <th>0</th>\n",
              "      <td>BHMS, MD - Homeopathy</td>\n",
              "      <td>24 years experience</td>\n",
              "      <td>100</td>\n",
              "      <td>Kakkanad, Ernakulam</td>\n",
              "      <td>Homeopath</td>\n",
              "      <td>100% 16 Feedback Kakkanad, Ernakulam</td>\n",
              "      <td>24</td>\n",
              "      <td>Ernakulam</td>\n",
              "      <td>Kakkanad</td>\n",
              "      <td>BHMS</td>\n",
              "      <td>MD - Homeopathy</td>\n",
              "      <td>XXX</td>\n",
              "      <td>100</td>\n",
              "      <td>3.0</td>\n",
              "      <td>16 Feedback Kakkanad, Ernakulam</td>\n",
              "      <td>16</td>\n",
              "      <td>2.0</td>\n",
              "      <td>100</td>\n",
              "      <td>283.321334</td>\n",
              "    </tr>\n",
              "    <tr>\n",
              "      <th>1</th>\n",
              "      <td>BAMS, MD - Ayurveda Medicine</td>\n",
              "      <td>12 years experience</td>\n",
              "      <td>98</td>\n",
              "      <td>Whitefield, Bangalore</td>\n",
              "      <td>Ayurveda</td>\n",
              "      <td>98% 76 Feedback Whitefield, Bangalore</td>\n",
              "      <td>12</td>\n",
              "      <td>Bangalore</td>\n",
              "      <td>Whitefield</td>\n",
              "      <td>BAMS</td>\n",
              "      <td>MD - Ayurveda Medicine</td>\n",
              "      <td>XXX</td>\n",
              "      <td>98</td>\n",
              "      <td>2.0</td>\n",
              "      <td>76 Feedback Whitefield, Bangalore</td>\n",
              "      <td>76</td>\n",
              "      <td>2.0</td>\n",
              "      <td>350</td>\n",
              "      <td>425.692931</td>\n",
              "    </tr>\n",
              "    <tr>\n",
              "      <th>2</th>\n",
              "      <td>MBBS, MS - Otorhinolaryngology</td>\n",
              "      <td>9 years experience</td>\n",
              "      <td>0</td>\n",
              "      <td>Mathikere - BEL, Bangalore</td>\n",
              "      <td>ENT Specialist</td>\n",
              "      <td>NaN</td>\n",
              "      <td>9</td>\n",
              "      <td>Bangalore</td>\n",
              "      <td>Mathikere - BEL</td>\n",
              "      <td>MBBS</td>\n",
              "      <td>MS - Otorhinolaryngology</td>\n",
              "      <td>XXX</td>\n",
              "      <td>0</td>\n",
              "      <td>NaN</td>\n",
              "      <td>NaN</td>\n",
              "      <td>0</td>\n",
              "      <td>NaN</td>\n",
              "      <td>300</td>\n",
              "      <td>0.000000</td>\n",
              "    </tr>\n",
              "    <tr>\n",
              "      <th>3</th>\n",
              "      <td>BSc - Zoology, BAMS</td>\n",
              "      <td>12 years experience</td>\n",
              "      <td>0</td>\n",
              "      <td>Bannerghatta Road, Bangalore</td>\n",
              "      <td>Ayurveda</td>\n",
              "      <td>Bannerghatta Road, Bangalore ₹250 Available on...</td>\n",
              "      <td>12</td>\n",
              "      <td>Bangalore</td>\n",
              "      <td>Bannerghatta Road</td>\n",
              "      <td>BSc - Zoology</td>\n",
              "      <td>BAMS</td>\n",
              "      <td>XXX</td>\n",
              "      <td>0</td>\n",
              "      <td>58.0</td>\n",
              "      <td>NaN</td>\n",
              "      <td>0</td>\n",
              "      <td>NaN</td>\n",
              "      <td>250</td>\n",
              "      <td>0.000000</td>\n",
              "    </tr>\n",
              "    <tr>\n",
              "      <th>4</th>\n",
              "      <td>BAMS</td>\n",
              "      <td>20 years experience</td>\n",
              "      <td>100</td>\n",
              "      <td>Keelkattalai, Chennai</td>\n",
              "      <td>Ayurveda</td>\n",
              "      <td>100% 4 Feedback Keelkattalai, Chennai</td>\n",
              "      <td>20</td>\n",
              "      <td>Chennai</td>\n",
              "      <td>Keelkattalai</td>\n",
              "      <td>BAMS</td>\n",
              "      <td>XXX</td>\n",
              "      <td>XXX</td>\n",
              "      <td>100</td>\n",
              "      <td>3.0</td>\n",
              "      <td>4 Feedback Keelkattalai, Chennai</td>\n",
              "      <td>4</td>\n",
              "      <td>1.0</td>\n",
              "      <td>250</td>\n",
              "      <td>160.943791</td>\n",
              "    </tr>\n",
              "  </tbody>\n",
              "</table>\n",
              "</div>"
            ],
            "text/plain": [
              "                    Qualification           Experience  ...  Fees1      Misc_4\n",
              "0           BHMS, MD - Homeopathy  24 years experience  ...    100  283.321334\n",
              "1    BAMS, MD - Ayurveda Medicine  12 years experience  ...    350  425.692931\n",
              "2  MBBS, MS - Otorhinolaryngology   9 years experience  ...    300    0.000000\n",
              "3             BSc - Zoology, BAMS  12 years experience  ...    250    0.000000\n",
              "4                            BAMS  20 years experience  ...    250  160.943791\n",
              "\n",
              "[5 rows x 19 columns]"
            ]
          },
          "metadata": {
            "tags": []
          },
          "execution_count": 35
        }
      ]
    },
    {
      "cell_type": "markdown",
      "metadata": {
        "id": "Cs4R3X05S646",
        "colab_type": "text"
      },
      "source": [
        "# LabelEncoding"
      ]
    },
    {
      "cell_type": "code",
      "metadata": {
        "id": "Nup4PFJASTjg",
        "colab_type": "code",
        "colab": {}
      },
      "source": [
        "lb_City = LabelEncoder()\n",
        "df[\"City_code\"] = lb_City.fit_transform(df[\"City\"])"
      ],
      "execution_count": 0,
      "outputs": []
    },
    {
      "cell_type": "code",
      "metadata": {
        "id": "gfx5wHkZTCd5",
        "colab_type": "code",
        "colab": {}
      },
      "source": [
        "lb_Locality = LabelEncoder()\n",
        "df[\"Locality_code\"] = lb_Locality.fit_transform(df[\"Locality\"])"
      ],
      "execution_count": 0,
      "outputs": []
    },
    {
      "cell_type": "code",
      "metadata": {
        "id": "k0ihOEVnTJtn",
        "colab_type": "code",
        "colab": {}
      },
      "source": [
        "lb_qual_1 = LabelEncoder()\n",
        "df[\"Qual_1_code\"] = lb_Locality.fit_transform(df[\"Qual_1\"])"
      ],
      "execution_count": 0,
      "outputs": []
    },
    {
      "cell_type": "code",
      "metadata": {
        "id": "JtTMUv5QTPtP",
        "colab_type": "code",
        "colab": {}
      },
      "source": [
        "x = df.loc[df['Qual_1'] == 'Get inspired by remarkable stories of people like you', 'Qual_1_code']"
      ],
      "execution_count": 0,
      "outputs": []
    },
    {
      "cell_type": "code",
      "metadata": {
        "id": "kxgkwRXDTcRD",
        "colab_type": "code",
        "outputId": "3c0433e3-557c-4943-8c8f-48bef22fb67b",
        "colab": {
          "base_uri": "https://localhost:8080/",
          "height": 450
        }
      },
      "source": [
        "x"
      ],
      "execution_count": 40,
      "outputs": [
        {
          "output_type": "execute_result",
          "data": {
            "text/plain": [
              "91      70\n",
              "502     70\n",
              "599     70\n",
              "605     70\n",
              "724     70\n",
              "1002    70\n",
              "1083    70\n",
              "1210    70\n",
              "2078    70\n",
              "2178    70\n",
              "2328    70\n",
              "3099    70\n",
              "3228    70\n",
              "3418    70\n",
              "3443    70\n",
              "3744    70\n",
              "3804    70\n",
              "4004    70\n",
              "4758    70\n",
              "4847    70\n",
              "5058    70\n",
              "5187    70\n",
              "5551    70\n",
              "5723    70\n",
              "Name: Qual_1_code, dtype: int64"
            ]
          },
          "metadata": {
            "tags": []
          },
          "execution_count": 40
        }
      ]
    },
    {
      "cell_type": "code",
      "metadata": {
        "id": "KnE4f9RgTdEo",
        "colab_type": "code",
        "colab": {}
      },
      "source": [
        "lb_qual_2 = LabelEncoder()\n",
        "df[\"Qual_2_code\"] = lb_Locality.fit_transform(df[\"Qual_2\"])"
      ],
      "execution_count": 0,
      "outputs": []
    },
    {
      "cell_type": "code",
      "metadata": {
        "id": "k1y8ja_qTy8n",
        "colab_type": "code",
        "colab": {}
      },
      "source": [
        "lb_qual_3 = LabelEncoder()\n",
        "df[\"Qual_3_code\"] = lb_Locality.fit_transform(df[\"Qual_3\"])"
      ],
      "execution_count": 0,
      "outputs": []
    },
    {
      "cell_type": "code",
      "metadata": {
        "id": "caDMQDcbT7L-",
        "colab_type": "code",
        "colab": {}
      },
      "source": [
        "lb_Profile = LabelEncoder()\n",
        "df[\"Profile_code\"] = lb_Locality.fit_transform(df[\"Profile\"])"
      ],
      "execution_count": 0,
      "outputs": []
    },
    {
      "cell_type": "code",
      "metadata": {
        "id": "2127vKzhUP9v",
        "colab_type": "code",
        "outputId": "a31f2b01-5955-4d47-9994-8d607a3d2f6b",
        "colab": {
          "base_uri": "https://localhost:8080/",
          "height": 52
        }
      },
      "source": [
        "np.where(df.dtypes != np.float)[0]"
      ],
      "execution_count": 44,
      "outputs": [
        {
          "output_type": "execute_result",
          "data": {
            "text/plain": [
              "array([ 0,  1,  2,  3,  4,  5,  6,  7,  8,  9, 10, 11, 12, 14, 15, 17, 19,\n",
              "       20, 21, 22, 23, 24])"
            ]
          },
          "metadata": {
            "tags": []
          },
          "execution_count": 44
        }
      ]
    },
    {
      "cell_type": "code",
      "metadata": {
        "id": "LY0sjh41Usmy",
        "colab_type": "code",
        "colab": {}
      },
      "source": [
        "df_xgb = df[['Qual_1_code','Qual_2_code','Qual_3_code','years_exp', 'Rating','Profile_code','Locality_code','City_code','Misc_4','Fees1']]"
      ],
      "execution_count": 0,
      "outputs": []
    },
    {
      "cell_type": "code",
      "metadata": {
        "id": "Rxm4EvhZUb6S",
        "colab_type": "code",
        "colab": {}
      },
      "source": [
        "df1=pd.get_dummies(data=df_xgb,columns=['Qual_1_code','Qual_2_code','Qual_3_code','Profile_code','Locality_code','City_code'],drop_first=True)"
      ],
      "execution_count": 0,
      "outputs": []
    },
    {
      "cell_type": "code",
      "metadata": {
        "id": "304w7WbhWFFR",
        "colab_type": "code",
        "outputId": "cf2522d7-31ab-49ab-ab1b-2b8c33b8333e",
        "colab": {
          "base_uri": "https://localhost:8080/",
          "height": 252
        }
      },
      "source": [
        "df1.head()"
      ],
      "execution_count": 47,
      "outputs": [
        {
          "output_type": "execute_result",
          "data": {
            "text/html": [
              "<div>\n",
              "<style scoped>\n",
              "    .dataframe tbody tr th:only-of-type {\n",
              "        vertical-align: middle;\n",
              "    }\n",
              "\n",
              "    .dataframe tbody tr th {\n",
              "        vertical-align: top;\n",
              "    }\n",
              "\n",
              "    .dataframe thead th {\n",
              "        text-align: right;\n",
              "    }\n",
              "</style>\n",
              "<table border=\"1\" class=\"dataframe\">\n",
              "  <thead>\n",
              "    <tr style=\"text-align: right;\">\n",
              "      <th></th>\n",
              "      <th>years_exp</th>\n",
              "      <th>Rating</th>\n",
              "      <th>Misc_4</th>\n",
              "      <th>Fees1</th>\n",
              "      <th>Qual_1_code_1</th>\n",
              "      <th>Qual_1_code_2</th>\n",
              "      <th>Qual_1_code_3</th>\n",
              "      <th>Qual_1_code_4</th>\n",
              "      <th>Qual_1_code_5</th>\n",
              "      <th>Qual_1_code_6</th>\n",
              "      <th>Qual_1_code_7</th>\n",
              "      <th>Qual_1_code_8</th>\n",
              "      <th>Qual_1_code_9</th>\n",
              "      <th>Qual_1_code_10</th>\n",
              "      <th>Qual_1_code_11</th>\n",
              "      <th>Qual_1_code_12</th>\n",
              "      <th>Qual_1_code_13</th>\n",
              "      <th>Qual_1_code_14</th>\n",
              "      <th>Qual_1_code_15</th>\n",
              "      <th>Qual_1_code_16</th>\n",
              "      <th>Qual_1_code_17</th>\n",
              "      <th>Qual_1_code_18</th>\n",
              "      <th>Qual_1_code_19</th>\n",
              "      <th>Qual_1_code_20</th>\n",
              "      <th>Qual_1_code_21</th>\n",
              "      <th>Qual_1_code_22</th>\n",
              "      <th>Qual_1_code_23</th>\n",
              "      <th>Qual_1_code_24</th>\n",
              "      <th>Qual_1_code_25</th>\n",
              "      <th>Qual_1_code_26</th>\n",
              "      <th>Qual_1_code_27</th>\n",
              "      <th>Qual_1_code_28</th>\n",
              "      <th>Qual_1_code_29</th>\n",
              "      <th>Qual_1_code_30</th>\n",
              "      <th>Qual_1_code_31</th>\n",
              "      <th>Qual_1_code_32</th>\n",
              "      <th>Qual_1_code_33</th>\n",
              "      <th>Qual_1_code_34</th>\n",
              "      <th>Qual_1_code_35</th>\n",
              "      <th>Qual_1_code_36</th>\n",
              "      <th>...</th>\n",
              "      <th>Locality_code_836</th>\n",
              "      <th>Locality_code_837</th>\n",
              "      <th>Locality_code_838</th>\n",
              "      <th>Locality_code_839</th>\n",
              "      <th>Locality_code_840</th>\n",
              "      <th>Locality_code_841</th>\n",
              "      <th>Locality_code_842</th>\n",
              "      <th>Locality_code_843</th>\n",
              "      <th>Locality_code_844</th>\n",
              "      <th>Locality_code_845</th>\n",
              "      <th>Locality_code_846</th>\n",
              "      <th>Locality_code_847</th>\n",
              "      <th>Locality_code_848</th>\n",
              "      <th>Locality_code_849</th>\n",
              "      <th>Locality_code_850</th>\n",
              "      <th>Locality_code_851</th>\n",
              "      <th>Locality_code_852</th>\n",
              "      <th>Locality_code_853</th>\n",
              "      <th>Locality_code_854</th>\n",
              "      <th>Locality_code_855</th>\n",
              "      <th>Locality_code_856</th>\n",
              "      <th>Locality_code_857</th>\n",
              "      <th>Locality_code_858</th>\n",
              "      <th>Locality_code_859</th>\n",
              "      <th>Locality_code_860</th>\n",
              "      <th>Locality_code_861</th>\n",
              "      <th>Locality_code_862</th>\n",
              "      <th>Locality_code_863</th>\n",
              "      <th>Locality_code_864</th>\n",
              "      <th>Locality_code_865</th>\n",
              "      <th>Locality_code_866</th>\n",
              "      <th>City_code_1</th>\n",
              "      <th>City_code_2</th>\n",
              "      <th>City_code_3</th>\n",
              "      <th>City_code_4</th>\n",
              "      <th>City_code_5</th>\n",
              "      <th>City_code_6</th>\n",
              "      <th>City_code_7</th>\n",
              "      <th>City_code_8</th>\n",
              "      <th>City_code_9</th>\n",
              "    </tr>\n",
              "  </thead>\n",
              "  <tbody>\n",
              "    <tr>\n",
              "      <th>0</th>\n",
              "      <td>24</td>\n",
              "      <td>100</td>\n",
              "      <td>283.321334</td>\n",
              "      <td>100</td>\n",
              "      <td>0</td>\n",
              "      <td>0</td>\n",
              "      <td>0</td>\n",
              "      <td>0</td>\n",
              "      <td>0</td>\n",
              "      <td>0</td>\n",
              "      <td>0</td>\n",
              "      <td>1</td>\n",
              "      <td>0</td>\n",
              "      <td>0</td>\n",
              "      <td>0</td>\n",
              "      <td>0</td>\n",
              "      <td>0</td>\n",
              "      <td>0</td>\n",
              "      <td>0</td>\n",
              "      <td>0</td>\n",
              "      <td>0</td>\n",
              "      <td>0</td>\n",
              "      <td>0</td>\n",
              "      <td>0</td>\n",
              "      <td>0</td>\n",
              "      <td>0</td>\n",
              "      <td>0</td>\n",
              "      <td>0</td>\n",
              "      <td>0</td>\n",
              "      <td>0</td>\n",
              "      <td>0</td>\n",
              "      <td>0</td>\n",
              "      <td>0</td>\n",
              "      <td>0</td>\n",
              "      <td>0</td>\n",
              "      <td>0</td>\n",
              "      <td>0</td>\n",
              "      <td>0</td>\n",
              "      <td>0</td>\n",
              "      <td>0</td>\n",
              "      <td>...</td>\n",
              "      <td>0</td>\n",
              "      <td>0</td>\n",
              "      <td>0</td>\n",
              "      <td>0</td>\n",
              "      <td>0</td>\n",
              "      <td>0</td>\n",
              "      <td>0</td>\n",
              "      <td>0</td>\n",
              "      <td>0</td>\n",
              "      <td>0</td>\n",
              "      <td>0</td>\n",
              "      <td>0</td>\n",
              "      <td>0</td>\n",
              "      <td>0</td>\n",
              "      <td>0</td>\n",
              "      <td>0</td>\n",
              "      <td>0</td>\n",
              "      <td>0</td>\n",
              "      <td>0</td>\n",
              "      <td>0</td>\n",
              "      <td>0</td>\n",
              "      <td>0</td>\n",
              "      <td>0</td>\n",
              "      <td>0</td>\n",
              "      <td>0</td>\n",
              "      <td>0</td>\n",
              "      <td>0</td>\n",
              "      <td>0</td>\n",
              "      <td>0</td>\n",
              "      <td>0</td>\n",
              "      <td>0</td>\n",
              "      <td>0</td>\n",
              "      <td>0</td>\n",
              "      <td>0</td>\n",
              "      <td>1</td>\n",
              "      <td>0</td>\n",
              "      <td>0</td>\n",
              "      <td>0</td>\n",
              "      <td>0</td>\n",
              "      <td>0</td>\n",
              "    </tr>\n",
              "    <tr>\n",
              "      <th>1</th>\n",
              "      <td>12</td>\n",
              "      <td>98</td>\n",
              "      <td>425.692931</td>\n",
              "      <td>350</td>\n",
              "      <td>0</td>\n",
              "      <td>0</td>\n",
              "      <td>0</td>\n",
              "      <td>0</td>\n",
              "      <td>1</td>\n",
              "      <td>0</td>\n",
              "      <td>0</td>\n",
              "      <td>0</td>\n",
              "      <td>0</td>\n",
              "      <td>0</td>\n",
              "      <td>0</td>\n",
              "      <td>0</td>\n",
              "      <td>0</td>\n",
              "      <td>0</td>\n",
              "      <td>0</td>\n",
              "      <td>0</td>\n",
              "      <td>0</td>\n",
              "      <td>0</td>\n",
              "      <td>0</td>\n",
              "      <td>0</td>\n",
              "      <td>0</td>\n",
              "      <td>0</td>\n",
              "      <td>0</td>\n",
              "      <td>0</td>\n",
              "      <td>0</td>\n",
              "      <td>0</td>\n",
              "      <td>0</td>\n",
              "      <td>0</td>\n",
              "      <td>0</td>\n",
              "      <td>0</td>\n",
              "      <td>0</td>\n",
              "      <td>0</td>\n",
              "      <td>0</td>\n",
              "      <td>0</td>\n",
              "      <td>0</td>\n",
              "      <td>0</td>\n",
              "      <td>...</td>\n",
              "      <td>0</td>\n",
              "      <td>0</td>\n",
              "      <td>0</td>\n",
              "      <td>0</td>\n",
              "      <td>0</td>\n",
              "      <td>0</td>\n",
              "      <td>0</td>\n",
              "      <td>0</td>\n",
              "      <td>0</td>\n",
              "      <td>0</td>\n",
              "      <td>0</td>\n",
              "      <td>0</td>\n",
              "      <td>0</td>\n",
              "      <td>0</td>\n",
              "      <td>0</td>\n",
              "      <td>0</td>\n",
              "      <td>0</td>\n",
              "      <td>0</td>\n",
              "      <td>0</td>\n",
              "      <td>1</td>\n",
              "      <td>0</td>\n",
              "      <td>0</td>\n",
              "      <td>0</td>\n",
              "      <td>0</td>\n",
              "      <td>0</td>\n",
              "      <td>0</td>\n",
              "      <td>0</td>\n",
              "      <td>0</td>\n",
              "      <td>0</td>\n",
              "      <td>0</td>\n",
              "      <td>0</td>\n",
              "      <td>0</td>\n",
              "      <td>0</td>\n",
              "      <td>0</td>\n",
              "      <td>0</td>\n",
              "      <td>0</td>\n",
              "      <td>0</td>\n",
              "      <td>0</td>\n",
              "      <td>0</td>\n",
              "      <td>0</td>\n",
              "    </tr>\n",
              "    <tr>\n",
              "      <th>2</th>\n",
              "      <td>9</td>\n",
              "      <td>0</td>\n",
              "      <td>0.000000</td>\n",
              "      <td>300</td>\n",
              "      <td>0</td>\n",
              "      <td>0</td>\n",
              "      <td>0</td>\n",
              "      <td>0</td>\n",
              "      <td>0</td>\n",
              "      <td>0</td>\n",
              "      <td>0</td>\n",
              "      <td>0</td>\n",
              "      <td>0</td>\n",
              "      <td>0</td>\n",
              "      <td>0</td>\n",
              "      <td>0</td>\n",
              "      <td>0</td>\n",
              "      <td>0</td>\n",
              "      <td>0</td>\n",
              "      <td>0</td>\n",
              "      <td>0</td>\n",
              "      <td>0</td>\n",
              "      <td>0</td>\n",
              "      <td>0</td>\n",
              "      <td>0</td>\n",
              "      <td>0</td>\n",
              "      <td>0</td>\n",
              "      <td>0</td>\n",
              "      <td>0</td>\n",
              "      <td>0</td>\n",
              "      <td>0</td>\n",
              "      <td>0</td>\n",
              "      <td>0</td>\n",
              "      <td>0</td>\n",
              "      <td>0</td>\n",
              "      <td>0</td>\n",
              "      <td>0</td>\n",
              "      <td>0</td>\n",
              "      <td>0</td>\n",
              "      <td>0</td>\n",
              "      <td>...</td>\n",
              "      <td>0</td>\n",
              "      <td>0</td>\n",
              "      <td>0</td>\n",
              "      <td>0</td>\n",
              "      <td>0</td>\n",
              "      <td>0</td>\n",
              "      <td>0</td>\n",
              "      <td>0</td>\n",
              "      <td>0</td>\n",
              "      <td>0</td>\n",
              "      <td>0</td>\n",
              "      <td>0</td>\n",
              "      <td>0</td>\n",
              "      <td>0</td>\n",
              "      <td>0</td>\n",
              "      <td>0</td>\n",
              "      <td>0</td>\n",
              "      <td>0</td>\n",
              "      <td>0</td>\n",
              "      <td>0</td>\n",
              "      <td>0</td>\n",
              "      <td>0</td>\n",
              "      <td>0</td>\n",
              "      <td>0</td>\n",
              "      <td>0</td>\n",
              "      <td>0</td>\n",
              "      <td>0</td>\n",
              "      <td>0</td>\n",
              "      <td>0</td>\n",
              "      <td>0</td>\n",
              "      <td>0</td>\n",
              "      <td>0</td>\n",
              "      <td>0</td>\n",
              "      <td>0</td>\n",
              "      <td>0</td>\n",
              "      <td>0</td>\n",
              "      <td>0</td>\n",
              "      <td>0</td>\n",
              "      <td>0</td>\n",
              "      <td>0</td>\n",
              "    </tr>\n",
              "    <tr>\n",
              "      <th>3</th>\n",
              "      <td>12</td>\n",
              "      <td>0</td>\n",
              "      <td>0.000000</td>\n",
              "      <td>250</td>\n",
              "      <td>0</td>\n",
              "      <td>0</td>\n",
              "      <td>0</td>\n",
              "      <td>0</td>\n",
              "      <td>0</td>\n",
              "      <td>0</td>\n",
              "      <td>0</td>\n",
              "      <td>0</td>\n",
              "      <td>0</td>\n",
              "      <td>0</td>\n",
              "      <td>0</td>\n",
              "      <td>1</td>\n",
              "      <td>0</td>\n",
              "      <td>0</td>\n",
              "      <td>0</td>\n",
              "      <td>0</td>\n",
              "      <td>0</td>\n",
              "      <td>0</td>\n",
              "      <td>0</td>\n",
              "      <td>0</td>\n",
              "      <td>0</td>\n",
              "      <td>0</td>\n",
              "      <td>0</td>\n",
              "      <td>0</td>\n",
              "      <td>0</td>\n",
              "      <td>0</td>\n",
              "      <td>0</td>\n",
              "      <td>0</td>\n",
              "      <td>0</td>\n",
              "      <td>0</td>\n",
              "      <td>0</td>\n",
              "      <td>0</td>\n",
              "      <td>0</td>\n",
              "      <td>0</td>\n",
              "      <td>0</td>\n",
              "      <td>0</td>\n",
              "      <td>...</td>\n",
              "      <td>0</td>\n",
              "      <td>0</td>\n",
              "      <td>0</td>\n",
              "      <td>0</td>\n",
              "      <td>0</td>\n",
              "      <td>0</td>\n",
              "      <td>0</td>\n",
              "      <td>0</td>\n",
              "      <td>0</td>\n",
              "      <td>0</td>\n",
              "      <td>0</td>\n",
              "      <td>0</td>\n",
              "      <td>0</td>\n",
              "      <td>0</td>\n",
              "      <td>0</td>\n",
              "      <td>0</td>\n",
              "      <td>0</td>\n",
              "      <td>0</td>\n",
              "      <td>0</td>\n",
              "      <td>0</td>\n",
              "      <td>0</td>\n",
              "      <td>0</td>\n",
              "      <td>0</td>\n",
              "      <td>0</td>\n",
              "      <td>0</td>\n",
              "      <td>0</td>\n",
              "      <td>0</td>\n",
              "      <td>0</td>\n",
              "      <td>0</td>\n",
              "      <td>0</td>\n",
              "      <td>0</td>\n",
              "      <td>0</td>\n",
              "      <td>0</td>\n",
              "      <td>0</td>\n",
              "      <td>0</td>\n",
              "      <td>0</td>\n",
              "      <td>0</td>\n",
              "      <td>0</td>\n",
              "      <td>0</td>\n",
              "      <td>0</td>\n",
              "    </tr>\n",
              "    <tr>\n",
              "      <th>4</th>\n",
              "      <td>20</td>\n",
              "      <td>100</td>\n",
              "      <td>160.943791</td>\n",
              "      <td>250</td>\n",
              "      <td>0</td>\n",
              "      <td>0</td>\n",
              "      <td>0</td>\n",
              "      <td>0</td>\n",
              "      <td>1</td>\n",
              "      <td>0</td>\n",
              "      <td>0</td>\n",
              "      <td>0</td>\n",
              "      <td>0</td>\n",
              "      <td>0</td>\n",
              "      <td>0</td>\n",
              "      <td>0</td>\n",
              "      <td>0</td>\n",
              "      <td>0</td>\n",
              "      <td>0</td>\n",
              "      <td>0</td>\n",
              "      <td>0</td>\n",
              "      <td>0</td>\n",
              "      <td>0</td>\n",
              "      <td>0</td>\n",
              "      <td>0</td>\n",
              "      <td>0</td>\n",
              "      <td>0</td>\n",
              "      <td>0</td>\n",
              "      <td>0</td>\n",
              "      <td>0</td>\n",
              "      <td>0</td>\n",
              "      <td>0</td>\n",
              "      <td>0</td>\n",
              "      <td>0</td>\n",
              "      <td>0</td>\n",
              "      <td>0</td>\n",
              "      <td>0</td>\n",
              "      <td>0</td>\n",
              "      <td>0</td>\n",
              "      <td>0</td>\n",
              "      <td>...</td>\n",
              "      <td>0</td>\n",
              "      <td>0</td>\n",
              "      <td>0</td>\n",
              "      <td>0</td>\n",
              "      <td>0</td>\n",
              "      <td>0</td>\n",
              "      <td>0</td>\n",
              "      <td>0</td>\n",
              "      <td>0</td>\n",
              "      <td>0</td>\n",
              "      <td>0</td>\n",
              "      <td>0</td>\n",
              "      <td>0</td>\n",
              "      <td>0</td>\n",
              "      <td>0</td>\n",
              "      <td>0</td>\n",
              "      <td>0</td>\n",
              "      <td>0</td>\n",
              "      <td>0</td>\n",
              "      <td>0</td>\n",
              "      <td>0</td>\n",
              "      <td>0</td>\n",
              "      <td>0</td>\n",
              "      <td>0</td>\n",
              "      <td>0</td>\n",
              "      <td>0</td>\n",
              "      <td>0</td>\n",
              "      <td>0</td>\n",
              "      <td>0</td>\n",
              "      <td>0</td>\n",
              "      <td>0</td>\n",
              "      <td>1</td>\n",
              "      <td>0</td>\n",
              "      <td>0</td>\n",
              "      <td>0</td>\n",
              "      <td>0</td>\n",
              "      <td>0</td>\n",
              "      <td>0</td>\n",
              "      <td>0</td>\n",
              "      <td>0</td>\n",
              "    </tr>\n",
              "  </tbody>\n",
              "</table>\n",
              "<p>5 rows × 1866 columns</p>\n",
              "</div>"
            ],
            "text/plain": [
              "   years_exp  Rating      Misc_4  ...  City_code_7  City_code_8  City_code_9\n",
              "0         24     100  283.321334  ...            0            0            0\n",
              "1         12      98  425.692931  ...            0            0            0\n",
              "2          9       0    0.000000  ...            0            0            0\n",
              "3         12       0    0.000000  ...            0            0            0\n",
              "4         20     100  160.943791  ...            0            0            0\n",
              "\n",
              "[5 rows x 1866 columns]"
            ]
          },
          "metadata": {
            "tags": []
          },
          "execution_count": 47
        }
      ]
    },
    {
      "cell_type": "markdown",
      "metadata": {
        "id": "IKeknDJTZxEc",
        "colab_type": "text"
      },
      "source": [
        "#Split the DataSet into Train & Test\n",
        "\n"
      ]
    },
    {
      "cell_type": "code",
      "metadata": {
        "id": "VxHQCf_yWi1d",
        "colab_type": "code",
        "colab": {}
      },
      "source": [
        "from sklearn.model_selection import train_test_split\n",
        "X=df1.drop(['Fees1'],axis=1)\n",
        "y=df1['Fees1']\n"
      ],
      "execution_count": 0,
      "outputs": []
    },
    {
      "cell_type": "markdown",
      "metadata": {
        "id": "c6xhAYdIX5CZ",
        "colab_type": "text"
      },
      "source": [
        "# XGboost"
      ]
    },
    {
      "cell_type": "code",
      "metadata": {
        "id": "_ZGit7sPW0Ix",
        "colab_type": "code",
        "colab": {}
      },
      "source": [
        "import xgboost as xgb\n",
        "from sklearn.metrics import mean_squared_error"
      ],
      "execution_count": 0,
      "outputs": []
    },
    {
      "cell_type": "code",
      "metadata": {
        "id": "64SvGY3oW9Th",
        "colab_type": "code",
        "outputId": "41a02795-83dd-4710-eb55-41acaf93276a",
        "colab": {
          "base_uri": "https://localhost:8080/",
          "height": 86
        }
      },
      "source": [
        "data_dmatrix = xgb.DMatrix(data=X,label=y)"
      ],
      "execution_count": 50,
      "outputs": [
        {
          "output_type": "stream",
          "text": [
            "/usr/local/lib/python3.6/dist-packages/xgboost/core.py:587: FutureWarning: Series.base is deprecated and will be removed in a future version\n",
            "  if getattr(data, 'base', None) is not None and \\\n",
            "/usr/local/lib/python3.6/dist-packages/xgboost/core.py:588: FutureWarning: Series.base is deprecated and will be removed in a future version\n",
            "  data.base is not None and isinstance(data, np.ndarray) \\\n"
          ],
          "name": "stderr"
        }
      ]
    },
    {
      "cell_type": "code",
      "metadata": {
        "id": "sEjHAzSYXESP",
        "colab_type": "code",
        "colab": {}
      },
      "source": [
        "X_train, X_test, y_train, y_test = train_test_split(X, y, test_size=0.3, random_state=123)"
      ],
      "execution_count": 0,
      "outputs": []
    },
    {
      "cell_type": "markdown",
      "metadata": {
        "id": "gTHkw1qDCrcm",
        "colab_type": "text"
      },
      "source": [
        "## ANN\n"
      ]
    },
    {
      "cell_type": "code",
      "metadata": {
        "id": "hZloehwUCq8t",
        "colab_type": "code",
        "outputId": "1d97cdcc-a8be-4e7d-9efc-378a426baa52",
        "colab": {
          "base_uri": "https://localhost:8080/",
          "height": 81
        }
      },
      "source": [
        "from keras.layers import Dense, Input, BatchNormalization\n",
        "from keras.models import Model\n",
        "from keras.optimizers import SGD, RMSprop, Adam"
      ],
      "execution_count": 52,
      "outputs": [
        {
          "output_type": "stream",
          "text": [
            "Using TensorFlow backend.\n"
          ],
          "name": "stderr"
        },
        {
          "output_type": "display_data",
          "data": {
            "text/html": [
              "<p style=\"color: red;\">\n",
              "The default version of TensorFlow in Colab will soon switch to TensorFlow 2.x.<br>\n",
              "We recommend you <a href=\"https://www.tensorflow.org/guide/migrate\" target=\"_blank\">upgrade</a> now \n",
              "or ensure your notebook will continue to use TensorFlow 1.x via the <code>%tensorflow_version 1.x</code> magic:\n",
              "<a href=\"https://colab.research.google.com/notebooks/tensorflow_version.ipynb\" target=\"_blank\">more info</a>.</p>\n"
            ],
            "text/plain": [
              "<IPython.core.display.HTML object>"
            ]
          },
          "metadata": {
            "tags": []
          }
        }
      ]
    },
    {
      "cell_type": "code",
      "metadata": {
        "id": "VeUBQ5t9Cq3U",
        "colab_type": "code",
        "outputId": "294eb4c9-ed4d-4d0d-cea8-1b1377b4aea6",
        "colab": {
          "base_uri": "https://localhost:8080/",
          "height": 572
        }
      },
      "source": [
        "import keras\n",
        "keras.backend.clear_session\n",
        "inp = Input(shape=[1865], dtype=np.float32)\n",
        "x = BatchNormalization()(inp)\n",
        "x = Dense(units=16, activation='relu')(inp)\n",
        "x = BatchNormalization()(x)\n",
        "x = Dense(units=32, activation='relu')(x)\n",
        "x = BatchNormalization()(x)\n",
        "x = Dense(units=32, activation='relu')(x)\n",
        "out = Dense(units=1, activation='linear')(x)\n",
        "model = Model(inp, out)\n",
        "model.compile(optimizer='adam', loss='mean_squared_error', metrics=['mae'])\n",
        "model.summary()"
      ],
      "execution_count": 53,
      "outputs": [
        {
          "output_type": "stream",
          "text": [
            "WARNING:tensorflow:From /usr/local/lib/python3.6/dist-packages/keras/backend/tensorflow_backend.py:66: The name tf.get_default_graph is deprecated. Please use tf.compat.v1.get_default_graph instead.\n",
            "\n",
            "WARNING:tensorflow:From /usr/local/lib/python3.6/dist-packages/keras/backend/tensorflow_backend.py:541: The name tf.placeholder is deprecated. Please use tf.compat.v1.placeholder instead.\n",
            "\n",
            "WARNING:tensorflow:From /usr/local/lib/python3.6/dist-packages/keras/backend/tensorflow_backend.py:148: The name tf.placeholder_with_default is deprecated. Please use tf.compat.v1.placeholder_with_default instead.\n",
            "\n",
            "WARNING:tensorflow:From /usr/local/lib/python3.6/dist-packages/keras/backend/tensorflow_backend.py:4432: The name tf.random_uniform is deprecated. Please use tf.random.uniform instead.\n",
            "\n",
            "WARNING:tensorflow:From /usr/local/lib/python3.6/dist-packages/keras/optimizers.py:793: The name tf.train.Optimizer is deprecated. Please use tf.compat.v1.train.Optimizer instead.\n",
            "\n",
            "Model: \"model_1\"\n",
            "_________________________________________________________________\n",
            "Layer (type)                 Output Shape              Param #   \n",
            "=================================================================\n",
            "input_1 (InputLayer)         (None, 1865)              0         \n",
            "_________________________________________________________________\n",
            "dense_1 (Dense)              (None, 16)                29856     \n",
            "_________________________________________________________________\n",
            "batch_normalization_2 (Batch (None, 16)                64        \n",
            "_________________________________________________________________\n",
            "dense_2 (Dense)              (None, 32)                544       \n",
            "_________________________________________________________________\n",
            "batch_normalization_3 (Batch (None, 32)                128       \n",
            "_________________________________________________________________\n",
            "dense_3 (Dense)              (None, 32)                1056      \n",
            "_________________________________________________________________\n",
            "dense_4 (Dense)              (None, 1)                 33        \n",
            "=================================================================\n",
            "Total params: 31,681\n",
            "Trainable params: 31,585\n",
            "Non-trainable params: 96\n",
            "_________________________________________________________________\n"
          ],
          "name": "stdout"
        }
      ]
    },
    {
      "cell_type": "code",
      "metadata": {
        "id": "ckFKuMlhCq1M",
        "colab_type": "code",
        "outputId": "949be709-a764-4f00-b6f2-425adafe301b",
        "colab": {
          "base_uri": "https://localhost:8080/",
          "height": 1000
        }
      },
      "source": [
        "reg = model.fit(x=X_train, y=y_train, batch_size=32, epochs=50, validation_split=0.3, verbose=1)"
      ],
      "execution_count": 54,
      "outputs": [
        {
          "output_type": "stream",
          "text": [
            "WARNING:tensorflow:From /usr/local/lib/python3.6/dist-packages/keras/backend/tensorflow_backend.py:1033: The name tf.assign_add is deprecated. Please use tf.compat.v1.assign_add instead.\n",
            "\n",
            "WARNING:tensorflow:From /usr/local/lib/python3.6/dist-packages/keras/backend/tensorflow_backend.py:1020: The name tf.assign is deprecated. Please use tf.compat.v1.assign instead.\n",
            "\n",
            "WARNING:tensorflow:From /usr/local/lib/python3.6/dist-packages/keras/backend/tensorflow_backend.py:3005: The name tf.Session is deprecated. Please use tf.compat.v1.Session instead.\n",
            "\n",
            "Train on 2920 samples, validate on 1252 samples\n",
            "Epoch 1/50\n",
            "WARNING:tensorflow:From /usr/local/lib/python3.6/dist-packages/keras/backend/tensorflow_backend.py:190: The name tf.get_default_session is deprecated. Please use tf.compat.v1.get_default_session instead.\n",
            "\n",
            "WARNING:tensorflow:From /usr/local/lib/python3.6/dist-packages/keras/backend/tensorflow_backend.py:197: The name tf.ConfigProto is deprecated. Please use tf.compat.v1.ConfigProto instead.\n",
            "\n",
            "WARNING:tensorflow:From /usr/local/lib/python3.6/dist-packages/keras/backend/tensorflow_backend.py:207: The name tf.global_variables is deprecated. Please use tf.compat.v1.global_variables instead.\n",
            "\n",
            "WARNING:tensorflow:From /usr/local/lib/python3.6/dist-packages/keras/backend/tensorflow_backend.py:216: The name tf.is_variable_initialized is deprecated. Please use tf.compat.v1.is_variable_initialized instead.\n",
            "\n",
            "WARNING:tensorflow:From /usr/local/lib/python3.6/dist-packages/keras/backend/tensorflow_backend.py:223: The name tf.variables_initializer is deprecated. Please use tf.compat.v1.variables_initializer instead.\n",
            "\n",
            "2920/2920 [==============================] - 1s 479us/step - loss: 125637.3045 - mean_absolute_error: 301.4940 - val_loss: 133854.1291 - val_mean_absolute_error: 307.4372\n",
            "Epoch 2/50\n",
            "2920/2920 [==============================] - 0s 135us/step - loss: 120182.8447 - mean_absolute_error: 292.6015 - val_loss: 125280.8967 - val_mean_absolute_error: 293.7249\n",
            "Epoch 3/50\n",
            "2920/2920 [==============================] - 0s 131us/step - loss: 104794.5107 - mean_absolute_error: 265.3667 - val_loss: 100525.7690 - val_mean_absolute_error: 249.2159\n",
            "Epoch 4/50\n",
            "2920/2920 [==============================] - 0s 133us/step - loss: 78013.4942 - mean_absolute_error: 216.1098 - val_loss: 73154.7593 - val_mean_absolute_error: 201.5679\n",
            "Epoch 5/50\n",
            "2920/2920 [==============================] - 0s 140us/step - loss: 51012.6778 - mean_absolute_error: 168.3770 - val_loss: 53322.0737 - val_mean_absolute_error: 173.3778\n",
            "Epoch 6/50\n",
            "2920/2920 [==============================] - 0s 146us/step - loss: 33727.3962 - mean_absolute_error: 137.1193 - val_loss: 41890.7750 - val_mean_absolute_error: 150.6286\n",
            "Epoch 7/50\n",
            "2920/2920 [==============================] - 0s 141us/step - loss: 26648.8594 - mean_absolute_error: 122.8645 - val_loss: 36284.5739 - val_mean_absolute_error: 143.0396\n",
            "Epoch 8/50\n",
            "2920/2920 [==============================] - 0s 140us/step - loss: 24325.7149 - mean_absolute_error: 118.1936 - val_loss: 34589.7474 - val_mean_absolute_error: 142.6083\n",
            "Epoch 9/50\n",
            "2920/2920 [==============================] - 0s 145us/step - loss: 22847.7330 - mean_absolute_error: 114.9004 - val_loss: 35604.2175 - val_mean_absolute_error: 142.4829\n",
            "Epoch 10/50\n",
            "2920/2920 [==============================] - 0s 143us/step - loss: 21629.0257 - mean_absolute_error: 110.7266 - val_loss: 34498.4762 - val_mean_absolute_error: 142.7181\n",
            "Epoch 11/50\n",
            "2920/2920 [==============================] - 0s 140us/step - loss: 20082.6446 - mean_absolute_error: 106.1103 - val_loss: 33771.6775 - val_mean_absolute_error: 141.6317\n",
            "Epoch 12/50\n",
            "2920/2920 [==============================] - 0s 143us/step - loss: 19659.1592 - mean_absolute_error: 105.3650 - val_loss: 35309.5513 - val_mean_absolute_error: 141.9803\n",
            "Epoch 13/50\n",
            "2920/2920 [==============================] - 0s 148us/step - loss: 18384.4270 - mean_absolute_error: 101.7422 - val_loss: 34452.1642 - val_mean_absolute_error: 140.7426\n",
            "Epoch 14/50\n",
            "2920/2920 [==============================] - 0s 146us/step - loss: 18650.2021 - mean_absolute_error: 103.4899 - val_loss: 35523.4442 - val_mean_absolute_error: 140.5827\n",
            "Epoch 15/50\n",
            "2920/2920 [==============================] - 0s 141us/step - loss: 16744.6484 - mean_absolute_error: 97.1171 - val_loss: 36775.9717 - val_mean_absolute_error: 149.4097\n",
            "Epoch 16/50\n",
            "2920/2920 [==============================] - 0s 142us/step - loss: 16819.2166 - mean_absolute_error: 97.0578 - val_loss: 34338.2475 - val_mean_absolute_error: 140.3750\n",
            "Epoch 17/50\n",
            "2920/2920 [==============================] - 0s 148us/step - loss: 17627.5037 - mean_absolute_error: 99.4474 - val_loss: 47588.9758 - val_mean_absolute_error: 165.0961\n",
            "Epoch 18/50\n",
            "2920/2920 [==============================] - 0s 133us/step - loss: 15634.3857 - mean_absolute_error: 92.8373 - val_loss: 43110.7098 - val_mean_absolute_error: 156.8722\n",
            "Epoch 19/50\n",
            "2920/2920 [==============================] - 0s 134us/step - loss: 17574.3808 - mean_absolute_error: 98.3068 - val_loss: 43923.6691 - val_mean_absolute_error: 157.0655\n",
            "Epoch 20/50\n",
            "2920/2920 [==============================] - 0s 132us/step - loss: 16484.4194 - mean_absolute_error: 93.7952 - val_loss: 38699.7761 - val_mean_absolute_error: 147.7247\n",
            "Epoch 21/50\n",
            "2920/2920 [==============================] - 0s 133us/step - loss: 15293.4072 - mean_absolute_error: 91.1442 - val_loss: 35325.9727 - val_mean_absolute_error: 141.4963\n",
            "Epoch 22/50\n",
            "2920/2920 [==============================] - 0s 132us/step - loss: 13815.0427 - mean_absolute_error: 85.5624 - val_loss: 38750.2707 - val_mean_absolute_error: 147.0412\n",
            "Epoch 23/50\n",
            "2920/2920 [==============================] - 0s 131us/step - loss: 14247.0279 - mean_absolute_error: 87.6195 - val_loss: 39913.3540 - val_mean_absolute_error: 152.9729\n",
            "Epoch 24/50\n",
            "2920/2920 [==============================] - 0s 131us/step - loss: 14562.2175 - mean_absolute_error: 88.5740 - val_loss: 39938.8586 - val_mean_absolute_error: 149.6347\n",
            "Epoch 25/50\n",
            "2920/2920 [==============================] - 0s 134us/step - loss: 14973.6759 - mean_absolute_error: 89.2355 - val_loss: 40475.9100 - val_mean_absolute_error: 154.7462\n",
            "Epoch 26/50\n",
            "2920/2920 [==============================] - 0s 126us/step - loss: 14244.0686 - mean_absolute_error: 88.0057 - val_loss: 41468.9865 - val_mean_absolute_error: 151.6183\n",
            "Epoch 27/50\n",
            "2920/2920 [==============================] - 0s 127us/step - loss: 13645.4852 - mean_absolute_error: 84.3977 - val_loss: 36976.5931 - val_mean_absolute_error: 144.7260\n",
            "Epoch 28/50\n",
            "2920/2920 [==============================] - 0s 132us/step - loss: 13622.9798 - mean_absolute_error: 84.4766 - val_loss: 37609.9118 - val_mean_absolute_error: 143.7712\n",
            "Epoch 29/50\n",
            "2920/2920 [==============================] - 0s 130us/step - loss: 13751.1821 - mean_absolute_error: 85.0604 - val_loss: 36014.3325 - val_mean_absolute_error: 143.1696\n",
            "Epoch 30/50\n",
            "2920/2920 [==============================] - 0s 130us/step - loss: 13175.7670 - mean_absolute_error: 84.0927 - val_loss: 36905.1285 - val_mean_absolute_error: 142.0763\n",
            "Epoch 31/50\n",
            "2920/2920 [==============================] - 0s 133us/step - loss: 12746.2361 - mean_absolute_error: 81.6698 - val_loss: 36664.9747 - val_mean_absolute_error: 144.2492\n",
            "Epoch 32/50\n",
            "2920/2920 [==============================] - 0s 129us/step - loss: 13333.4880 - mean_absolute_error: 84.2933 - val_loss: 40527.2701 - val_mean_absolute_error: 148.7203\n",
            "Epoch 33/50\n",
            "2920/2920 [==============================] - 0s 130us/step - loss: 13209.5585 - mean_absolute_error: 83.7474 - val_loss: 41531.9587 - val_mean_absolute_error: 158.0586\n",
            "Epoch 34/50\n",
            "2920/2920 [==============================] - 0s 129us/step - loss: 11820.1945 - mean_absolute_error: 78.9713 - val_loss: 36054.1115 - val_mean_absolute_error: 140.3449\n",
            "Epoch 35/50\n",
            "2920/2920 [==============================] - 0s 129us/step - loss: 12238.9210 - mean_absolute_error: 79.3502 - val_loss: 56971.8274 - val_mean_absolute_error: 181.4915\n",
            "Epoch 36/50\n",
            "2920/2920 [==============================] - 0s 129us/step - loss: 12205.5439 - mean_absolute_error: 79.8383 - val_loss: 37020.3753 - val_mean_absolute_error: 144.7869\n",
            "Epoch 37/50\n",
            "2920/2920 [==============================] - 0s 127us/step - loss: 11923.1438 - mean_absolute_error: 78.2096 - val_loss: 36103.3532 - val_mean_absolute_error: 142.0331\n",
            "Epoch 38/50\n",
            "2920/2920 [==============================] - 0s 131us/step - loss: 12276.1709 - mean_absolute_error: 79.4114 - val_loss: 39926.3916 - val_mean_absolute_error: 152.8911\n",
            "Epoch 39/50\n",
            "2920/2920 [==============================] - 0s 130us/step - loss: 12314.0021 - mean_absolute_error: 80.4945 - val_loss: 36070.0546 - val_mean_absolute_error: 141.9417\n",
            "Epoch 40/50\n",
            "2920/2920 [==============================] - 0s 137us/step - loss: 11253.0142 - mean_absolute_error: 77.0337 - val_loss: 38891.5062 - val_mean_absolute_error: 149.5273\n",
            "Epoch 41/50\n",
            "2920/2920 [==============================] - 0s 127us/step - loss: 11511.2351 - mean_absolute_error: 76.8228 - val_loss: 38472.0446 - val_mean_absolute_error: 148.8879\n",
            "Epoch 42/50\n",
            "2920/2920 [==============================] - 0s 127us/step - loss: 10875.4416 - mean_absolute_error: 75.2261 - val_loss: 36635.6006 - val_mean_absolute_error: 142.1316\n",
            "Epoch 43/50\n",
            "2920/2920 [==============================] - 0s 124us/step - loss: 11235.7364 - mean_absolute_error: 76.6822 - val_loss: 38107.3631 - val_mean_absolute_error: 143.4134\n",
            "Epoch 44/50\n",
            "2920/2920 [==============================] - 0s 130us/step - loss: 11345.7465 - mean_absolute_error: 76.9063 - val_loss: 37974.8096 - val_mean_absolute_error: 147.7608\n",
            "Epoch 45/50\n",
            "2920/2920 [==============================] - 0s 124us/step - loss: 10365.0658 - mean_absolute_error: 72.8477 - val_loss: 36667.1121 - val_mean_absolute_error: 143.6328\n",
            "Epoch 46/50\n",
            "2920/2920 [==============================] - 0s 130us/step - loss: 10810.2101 - mean_absolute_error: 75.2537 - val_loss: 36882.1013 - val_mean_absolute_error: 144.2602\n",
            "Epoch 47/50\n",
            "2920/2920 [==============================] - 0s 129us/step - loss: 11050.2303 - mean_absolute_error: 75.0462 - val_loss: 37688.4617 - val_mean_absolute_error: 146.2645\n",
            "Epoch 48/50\n",
            "2920/2920 [==============================] - 0s 130us/step - loss: 10967.4598 - mean_absolute_error: 74.9036 - val_loss: 42028.4385 - val_mean_absolute_error: 153.0420\n",
            "Epoch 49/50\n",
            "2920/2920 [==============================] - 0s 128us/step - loss: 10599.8996 - mean_absolute_error: 72.9714 - val_loss: 38178.8629 - val_mean_absolute_error: 149.6071\n",
            "Epoch 50/50\n",
            "2920/2920 [==============================] - 0s 131us/step - loss: 10652.7904 - mean_absolute_error: 74.3297 - val_loss: 41247.3354 - val_mean_absolute_error: 157.1160\n"
          ],
          "name": "stdout"
        }
      ]
    },
    {
      "cell_type": "code",
      "metadata": {
        "id": "eN6imwTYCqxd",
        "colab_type": "code",
        "colab": {}
      },
      "source": [
        "p = model.predict(X_test)"
      ],
      "execution_count": 0,
      "outputs": []
    },
    {
      "cell_type": "code",
      "metadata": {
        "id": "o6yYZYwmCqvk",
        "colab_type": "code",
        "outputId": "8a66501b-59f6-4ac9-cc7b-e55524635534",
        "colab": {
          "base_uri": "https://localhost:8080/",
          "height": 34
        }
      },
      "source": [
        "rmse = np.sqrt(mean_squared_error(y_test, p))\n",
        "print(\"RMSE: %f\" % (rmse))"
      ],
      "execution_count": 56,
      "outputs": [
        {
          "output_type": "stream",
          "text": [
            "RMSE: 204.197557\n"
          ],
          "name": "stdout"
        }
      ]
    },
    {
      "cell_type": "code",
      "metadata": {
        "id": "PuvOl14tXJjN",
        "colab_type": "code",
        "colab": {}
      },
      "source": [
        "xg_reg = xgb.XGBRegressor(objective ='reg:linear', colsample_bytree = 0.3, learning_rate = 0.1, max_depth = 5, n_estimators = 10)"
      ],
      "execution_count": 0,
      "outputs": []
    },
    {
      "cell_type": "code",
      "metadata": {
        "id": "DjTd5dxAXPs8",
        "colab_type": "code",
        "outputId": "0a5cab3f-4fe1-47c4-fbd8-b13498612fb8",
        "colab": {
          "base_uri": "https://localhost:8080/",
          "height": 69
        }
      },
      "source": [
        "xg_reg.fit(X_train,y_train)\n",
        "\n",
        "preds = xg_reg.predict(X_test)"
      ],
      "execution_count": 58,
      "outputs": [
        {
          "output_type": "stream",
          "text": [
            "/usr/local/lib/python3.6/dist-packages/xgboost/core.py:587: FutureWarning: Series.base is deprecated and will be removed in a future version\n",
            "  if getattr(data, 'base', None) is not None and \\\n"
          ],
          "name": "stderr"
        },
        {
          "output_type": "stream",
          "text": [
            "[11:43:25] WARNING: /workspace/src/objective/regression_obj.cu:152: reg:linear is now deprecated in favor of reg:squarederror.\n"
          ],
          "name": "stdout"
        }
      ]
    },
    {
      "cell_type": "code",
      "metadata": {
        "id": "BhnjAdzIXTN3",
        "colab_type": "code",
        "outputId": "27498c9b-bab9-4189-e358-13e424e4d6f0",
        "colab": {
          "base_uri": "https://localhost:8080/",
          "height": 34
        }
      },
      "source": [
        "rmse = np.sqrt(mean_squared_error(y_test, preds))\n",
        "print(\"RMSE: %f\" % (rmse))"
      ],
      "execution_count": 59,
      "outputs": [
        {
          "output_type": "stream",
          "text": [
            "RMSE: 212.785066\n"
          ],
          "name": "stdout"
        }
      ]
    },
    {
      "cell_type": "code",
      "metadata": {
        "id": "Rs-ZJ9CHXWyo",
        "colab_type": "code",
        "outputId": "6350e0b5-1c56-4b76-8aa6-7bbaec03173c",
        "colab": {
          "base_uri": "https://localhost:8080/",
          "height": 69
        }
      },
      "source": [
        "params = {\"objective\":\"reg:linear\",'colsample_bytree': 0.3,'learning_rate': 0.1,\n",
        "                'max_depth': 5, 'alpha': 10}\n",
        "\n",
        "cv_results = xgb.cv(dtrain=data_dmatrix, params=params, nfold=3,\n",
        "                     num_boost_round=50,early_stopping_rounds=10,metrics=\"rmse\", as_pandas=True, seed=123)"
      ],
      "execution_count": 60,
      "outputs": [
        {
          "output_type": "stream",
          "text": [
            "[11:43:36] WARNING: /workspace/src/objective/regression_obj.cu:152: reg:linear is now deprecated in favor of reg:squarederror.\n",
            "[11:43:37] WARNING: /workspace/src/objective/regression_obj.cu:152: reg:linear is now deprecated in favor of reg:squarederror.\n",
            "[11:43:37] WARNING: /workspace/src/objective/regression_obj.cu:152: reg:linear is now deprecated in favor of reg:squarederror.\n"
          ],
          "name": "stdout"
        }
      ]
    },
    {
      "cell_type": "code",
      "metadata": {
        "id": "Qjij0d1fXl3_",
        "colab_type": "code",
        "outputId": "78b35a6e-15ca-4d11-ad85-38e3391e6278",
        "colab": {
          "base_uri": "https://localhost:8080/",
          "height": 202
        }
      },
      "source": [
        "cv_results.head()"
      ],
      "execution_count": 61,
      "outputs": [
        {
          "output_type": "execute_result",
          "data": {
            "text/html": [
              "<div>\n",
              "<style scoped>\n",
              "    .dataframe tbody tr th:only-of-type {\n",
              "        vertical-align: middle;\n",
              "    }\n",
              "\n",
              "    .dataframe tbody tr th {\n",
              "        vertical-align: top;\n",
              "    }\n",
              "\n",
              "    .dataframe thead th {\n",
              "        text-align: right;\n",
              "    }\n",
              "</style>\n",
              "<table border=\"1\" class=\"dataframe\">\n",
              "  <thead>\n",
              "    <tr style=\"text-align: right;\">\n",
              "      <th></th>\n",
              "      <th>train-rmse-mean</th>\n",
              "      <th>train-rmse-std</th>\n",
              "      <th>test-rmse-mean</th>\n",
              "      <th>test-rmse-std</th>\n",
              "    </tr>\n",
              "  </thead>\n",
              "  <tbody>\n",
              "    <tr>\n",
              "      <th>0</th>\n",
              "      <td>335.436391</td>\n",
              "      <td>4.590732</td>\n",
              "      <td>335.429647</td>\n",
              "      <td>10.371445</td>\n",
              "    </tr>\n",
              "    <tr>\n",
              "      <th>1</th>\n",
              "      <td>311.927246</td>\n",
              "      <td>4.354219</td>\n",
              "      <td>312.021281</td>\n",
              "      <td>10.290393</td>\n",
              "    </tr>\n",
              "    <tr>\n",
              "      <th>2</th>\n",
              "      <td>291.172404</td>\n",
              "      <td>4.252207</td>\n",
              "      <td>291.395477</td>\n",
              "      <td>10.225269</td>\n",
              "    </tr>\n",
              "    <tr>\n",
              "      <th>3</th>\n",
              "      <td>273.105601</td>\n",
              "      <td>4.189069</td>\n",
              "      <td>273.581126</td>\n",
              "      <td>10.088039</td>\n",
              "    </tr>\n",
              "    <tr>\n",
              "      <th>4</th>\n",
              "      <td>257.450251</td>\n",
              "      <td>4.065410</td>\n",
              "      <td>258.094340</td>\n",
              "      <td>9.894153</td>\n",
              "    </tr>\n",
              "  </tbody>\n",
              "</table>\n",
              "</div>"
            ],
            "text/plain": [
              "   train-rmse-mean  train-rmse-std  test-rmse-mean  test-rmse-std\n",
              "0       335.436391        4.590732      335.429647      10.371445\n",
              "1       311.927246        4.354219      312.021281      10.290393\n",
              "2       291.172404        4.252207      291.395477      10.225269\n",
              "3       273.105601        4.189069      273.581126      10.088039\n",
              "4       257.450251        4.065410      258.094340       9.894153"
            ]
          },
          "metadata": {
            "tags": []
          },
          "execution_count": 61
        }
      ]
    },
    {
      "cell_type": "code",
      "metadata": {
        "id": "kXNzFuLoXquh",
        "colab_type": "code",
        "outputId": "0e947f71-82e3-48e3-c5b2-fa700a252cd3",
        "colab": {
          "base_uri": "https://localhost:8080/",
          "height": 52
        }
      },
      "source": [
        "print((cv_results[\"test-rmse-mean\"]).tail(1))"
      ],
      "execution_count": 62,
      "outputs": [
        {
          "output_type": "stream",
          "text": [
            "49    168.579285\n",
            "Name: test-rmse-mean, dtype: float64\n"
          ],
          "name": "stdout"
        }
      ]
    },
    {
      "cell_type": "code",
      "metadata": {
        "id": "F4srQFXHXuz8",
        "colab_type": "code",
        "outputId": "0a0f1457-78fc-4b53-c56a-d20a366a4e55",
        "colab": {
          "base_uri": "https://localhost:8080/",
          "height": 294
        }
      },
      "source": [
        "xgb.plot_importance(xg_reg)\n",
        "plt.rcParams['figure.figsize'] = [5, 5]\n",
        "plt.show()"
      ],
      "execution_count": 63,
      "outputs": [
        {
          "output_type": "display_data",
          "data": {
            "image/png": "[encoded data removed]",
            "text/plain": [
              "<Figure size 432x288 with 1 Axes>"
            ]
          },
          "metadata": {
            "tags": []
          }
        }
      ]
    },
    {
      "cell_type": "markdown",
      "metadata": {
        "id": "GOKDHcnwX96R",
        "colab_type": "text"
      },
      "source": [
        "# SVR"
      ]
    },
    {
      "cell_type": "code",
      "metadata": {
        "id": "K_HPXou5XyGc",
        "colab_type": "code",
        "colab": {}
      },
      "source": [
        "from sklearn.svm import SVR\n",
        "import numpy as np\n",
        "svr = SVR(kernel=\"rbf\", gamma=0.1)"
      ],
      "execution_count": 0,
      "outputs": []
    },
    {
      "cell_type": "code",
      "metadata": {
        "id": "YEoc9BAuYD8W",
        "colab_type": "code",
        "outputId": "2803f862-57bf-482e-efc5-ccf8e467087e",
        "colab": {
          "base_uri": "https://localhost:8080/",
          "height": 52
        }
      },
      "source": [
        "svr.fit(X_train,y_train)"
      ],
      "execution_count": 65,
      "outputs": [
        {
          "output_type": "execute_result",
          "data": {
            "text/plain": [
              "SVR(C=1.0, cache_size=200, coef0=0.0, degree=3, epsilon=0.1, gamma=0.1,\n",
              "    kernel='rbf', max_iter=-1, shrinking=True, tol=0.001, verbose=False)"
            ]
          },
          "metadata": {
            "tags": []
          },
          "execution_count": 65
        }
      ]
    },
    {
      "cell_type": "code",
      "metadata": {
        "id": "YwFWbalHYGU5",
        "colab_type": "code",
        "colab": {}
      },
      "source": [
        "y_predict=svr.predict(X_test)"
      ],
      "execution_count": 0,
      "outputs": []
    },
    {
      "cell_type": "code",
      "metadata": {
        "id": "N5QR1SkEYcKU",
        "colab_type": "code",
        "outputId": "be6fdc37-6d68-4abd-be7b-eabe9bda9886",
        "colab": {
          "base_uri": "https://localhost:8080/",
          "height": 34
        }
      },
      "source": [
        "rmse = np.sqrt(mean_squared_error(y_test, y_predict))\n",
        "print(\"RMSE: %f\" % (rmse))"
      ],
      "execution_count": 67,
      "outputs": [
        {
          "output_type": "stream",
          "text": [
            "RMSE: 191.112630\n"
          ],
          "name": "stdout"
        }
      ]
    },
    {
      "cell_type": "markdown",
      "metadata": {
        "id": "LW3bbH1PYou-",
        "colab_type": "text"
      },
      "source": [
        "# Decision Tree & Random Forest"
      ]
    },
    {
      "cell_type": "code",
      "metadata": {
        "id": "3aqYnpWUYiqF",
        "colab_type": "code",
        "colab": {}
      },
      "source": [
        "from sklearn.ensemble import RandomForestRegressor\n",
        "from sklearn.tree import DecisionTreeRegressor "
      ],
      "execution_count": 0,
      "outputs": []
    },
    {
      "cell_type": "code",
      "metadata": {
        "id": "yxp35QaMYu54",
        "colab_type": "code",
        "outputId": "6f7f85dd-4a9e-433a-a493-3dff01b4ded0",
        "colab": {
          "base_uri": "https://localhost:8080/",
          "height": 173
        }
      },
      "source": [
        "dt = DecisionTreeRegressor()\n",
        "rf = RandomForestRegressor()\n",
        "\n",
        "dt.fit(X_train,y_train)\n",
        "rf.fit(X_train,y_train)"
      ],
      "execution_count": 69,
      "outputs": [
        {
          "output_type": "stream",
          "text": [
            "/usr/local/lib/python3.6/dist-packages/sklearn/ensemble/forest.py:245: FutureWarning: The default value of n_estimators will change from 10 in version 0.20 to 100 in 0.22.\n",
            "  \"10 in version 0.20 to 100 in 0.22.\", FutureWarning)\n"
          ],
          "name": "stderr"
        },
        {
          "output_type": "execute_result",
          "data": {
            "text/plain": [
              "RandomForestRegressor(bootstrap=True, criterion='mse', max_depth=None,\n",
              "                      max_features='auto', max_leaf_nodes=None,\n",
              "                      min_impurity_decrease=0.0, min_impurity_split=None,\n",
              "                      min_samples_leaf=1, min_samples_split=2,\n",
              "                      min_weight_fraction_leaf=0.0, n_estimators=10,\n",
              "                      n_jobs=None, oob_score=False, random_state=None,\n",
              "                      verbose=0, warm_start=False)"
            ]
          },
          "metadata": {
            "tags": []
          },
          "execution_count": 69
        }
      ]
    },
    {
      "cell_type": "code",
      "metadata": {
        "id": "jdXLZQOcYyb8",
        "colab_type": "code",
        "colab": {}
      },
      "source": [
        "y_predict1=dt.predict(X_test)\n",
        "y_predict2=rf.predict(X_test)"
      ],
      "execution_count": 0,
      "outputs": []
    },
    {
      "cell_type": "code",
      "metadata": {
        "id": "reU6bA68Y1Od",
        "colab_type": "code",
        "outputId": "bb722039-869b-44dd-a737-65220affeb9b",
        "colab": {
          "base_uri": "https://localhost:8080/",
          "height": 34
        }
      },
      "source": [
        "rmse = np.sqrt(mean_squared_error(y_test, y_predict1))\n",
        "print(\"RMSE: %f\" % (rmse))"
      ],
      "execution_count": 71,
      "outputs": [
        {
          "output_type": "stream",
          "text": [
            "RMSE: 220.282928\n"
          ],
          "name": "stdout"
        }
      ]
    },
    {
      "cell_type": "code",
      "metadata": {
        "id": "6PgqS6i9Y4Dk",
        "colab_type": "code",
        "outputId": "a979fee8-78f6-46e6-a20c-089cca4da141",
        "colab": {
          "base_uri": "https://localhost:8080/",
          "height": 34
        }
      },
      "source": [
        "rmse = np.sqrt(mean_squared_error(y_test, y_predict2))\n",
        "print(\"RMSE: %f\" % (rmse))"
      ],
      "execution_count": 97,
      "outputs": [
        {
          "output_type": "stream",
          "text": [
            "RMSE: 176.635141\n"
          ],
          "name": "stdout"
        }
      ]
    },
    {
      "cell_type": "markdown",
      "metadata": {
        "id": "vWkh9wP0ZWc-",
        "colab_type": "text"
      },
      "source": [
        "Though RMSE score is low for Random Forest among all applied regression models, I would like to take Random Forest in model selection."
      ]
    }
  ]
}